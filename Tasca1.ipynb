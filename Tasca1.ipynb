{
 "cells": [
  {
   "cell_type": "markdown",
   "id": "c74abc19",
   "metadata": {},
   "source": [
    "### Exercici 1\n",
    "Agafa un conjunt de dades de tema esportiu que t'agradi i selecciona un atribut del conjunt de dades. Calcula la moda, la mediana, la desviació estàndard i la mitjana aritmètica. \n",
    "\n",
    "So let's continue with women's volleyball dataset, which as previously prepared (see sprint 6)"
   ]
  },
  {
   "cell_type": "code",
   "execution_count": 1,
   "id": "c29e03d6",
   "metadata": {},
   "outputs": [],
   "source": [
    "import pandas as pd\n",
    "import matplotlib.pyplot as plt\n",
    "import seaborn as sns\n",
    "import numpy as np"
   ]
  },
  {
   "cell_type": "code",
   "execution_count": null,
   "id": "5baa2fd5",
   "metadata": {},
   "outputs": [],
   "source": [
    "wVb = pd.read_csv('wVb.csv')\n",
    "print(wVb.head())"
   ]
  },
  {
   "cell_type": "code",
   "execution_count": 3,
   "id": "e0f96474",
   "metadata": {},
   "outputs": [
    {
     "name": "stdout",
     "output_type": "stream",
     "text": [
      "   index                   name date_of_birth  height  weight  spike  block  \\\n",
      "0      0     Angelina Lazarenko    13/04/1998     193      80    320    305   \n",
      "1      1       Svetlana Serbina    15/05/1996     182      71    295    284   \n",
      "2      2  Ekaterina Shkurikhina    17/06/1996     190      72    306    296   \n",
      "3      3     Kristina Kurnosova    17/06/1997     176      62    288    278   \n",
      "4      4     Ekaterina Novikova    07/12/1996     181      70    290    275   \n",
      "\n",
      "   position_number  country  \n",
      "0                3       23  \n",
      "1                1       23  \n",
      "2                2       23  \n",
      "3                6       23  \n",
      "4                1       23  \n"
     ]
    }
   ],
   "source": [
    "#drop the column 'index'\n",
    "wVb.drop('index', axis = 1, inplace = True)\n",
    "#count the duplciates and drop them, keeping the first element of each\n",
    "wVb.duplicated().sum()\n",
    "wVb.drop_duplicates(inplace = True)"
   ]
  },
  {
   "cell_type": "code",
   "execution_count": null,
   "id": "ab7d8b6f",
   "metadata": {},
   "outputs": [],
   "source": [
    "#Change the position so it is represented by a number\n",
    "conditions = [wVb['position_number'] == 1,\n",
    "             wVb['position_number'] == 2,\n",
    "             wVb['position_number'] == 3,\n",
    "             wVb['position_number'] == 4,\n",
    "             wVb['position_number'] == 6]\n",
    "\n",
    "newValues = ['setter', 'wing', 'middle', 'opposite', 'libero']\n",
    "\n",
    "wVb['position'] = np.select(conditions, newValues)\n",
    "wVb.head()"
   ]
  },
  {
   "cell_type": "code",
   "execution_count": null,
   "id": "c243f02a",
   "metadata": {},
   "outputs": [],
   "source": [
    "#drop any other columns that we will not use\n",
    "wVb.drop(['date_of_birth', 'position_number', 'country'], axis = 1, inplace = True)"
   ]
  },
  {
   "cell_type": "code",
   "execution_count": 47,
   "id": "b4a36e49",
   "metadata": {},
   "outputs": [],
   "source": [
    "def myMode(ss):\n",
    "    valueCount = ss.value_counts() #This returns the values sorted, so we just have to pick the first element\n",
    "    return valueCount.index[0]\n",
    "\n",
    "def myMedian(ss):\n",
    "    sortedSS = list(ss.sort_values())\n",
    "    size = len(sortedSS)\n",
    "    median = 0\n",
    "    \n",
    "    if size%2 == 0:\n",
    "        median = (sortedSS[size/2] + sortedSS[size/2 + 1])/2\n",
    "    else:\n",
    "        median = sortedSS[size//2]+1\n",
    "    \n",
    "    return median\n",
    "\n",
    "def myMean(ss):\n",
    "    return ss.sum()/ss.size\n",
    "\n",
    "def StandardDev(ss):\n",
    "    \n",
    "    mean = myMean(ss)\n",
    "    \n",
    "    return np.sqrt(np.power(ss-mean,2).sum()/(ss.size - 1)) #We get the std for a sample, since we do not have access\n",
    "                                                            #To all volleyball players."
   ]
  },
  {
   "cell_type": "code",
   "execution_count": 48,
   "id": "1fa9d702",
   "metadata": {},
   "outputs": [
    {
     "name": "stdout",
     "output_type": "stream",
     "text": [
      "The mode: 186\n",
      "The median 183\n",
      "The mean 180.979020979021\n",
      "Desvest 8.262820624252404\n"
     ]
    }
   ],
   "source": [
    "ss = wVb['height']\n",
    "print('The mode:', myMode(ss))\n",
    "print('The median', myMedian(ss))\n",
    "print('The mean', myMean(ss))\n",
    "print('Desvest', StandardDev(ss))"
   ]
  },
  {
   "cell_type": "markdown",
   "id": "31960cd0",
   "metadata": {},
   "source": [
    "### - Exercici 2\n",
    "Continuant amb les dades de tema esportiu, selecciona dos atributs i calcula'n la seva correlació."
   ]
  },
  {
   "cell_type": "code",
   "execution_count": 50,
   "id": "c992f172",
   "metadata": {},
   "outputs": [],
   "source": [
    "def myCorr(df, xlabel, ylabel):\n",
    "    x = df[xlabel]\n",
    "    y = df[ylabel]\n",
    "    sSize = x.size\n",
    "    \n",
    "    return (sSize*(x*y).sum() - x.sum()*y.sum())/(\n",
    "            np.sqrt(sSize*np.power(x,2).sum() - \n",
    "            np.power(x.sum() , 2)) * np.sqrt(sSize*np.power(y,2).sum() - np.power(y.sum(), 2)))"
   ]
  },
  {
   "cell_type": "code",
   "execution_count": 51,
   "id": "4c73890c",
   "metadata": {},
   "outputs": [
    {
     "name": "stdout",
     "output_type": "stream",
     "text": [
      "0.640032317794585\n"
     ]
    }
   ],
   "source": [
    "corrCoef = myCorr(wVb, 'height', 'weight')\n",
    "print(corrCoef)"
   ]
  },
  {
   "cell_type": "code",
   "execution_count": 52,
   "id": "bf3d26f9",
   "metadata": {},
   "outputs": [
    {
     "data": {
      "text/html": [
       "<div>\n",
       "<style scoped>\n",
       "    .dataframe tbody tr th:only-of-type {\n",
       "        vertical-align: middle;\n",
       "    }\n",
       "\n",
       "    .dataframe tbody tr th {\n",
       "        vertical-align: top;\n",
       "    }\n",
       "\n",
       "    .dataframe thead th {\n",
       "        text-align: right;\n",
       "    }\n",
       "</style>\n",
       "<table border=\"1\" class=\"dataframe\">\n",
       "  <thead>\n",
       "    <tr style=\"text-align: right;\">\n",
       "      <th></th>\n",
       "      <th>height</th>\n",
       "      <th>weight</th>\n",
       "    </tr>\n",
       "  </thead>\n",
       "  <tbody>\n",
       "    <tr>\n",
       "      <th>height</th>\n",
       "      <td>1.000000</td>\n",
       "      <td>0.640032</td>\n",
       "    </tr>\n",
       "    <tr>\n",
       "      <th>weight</th>\n",
       "      <td>0.640032</td>\n",
       "      <td>1.000000</td>\n",
       "    </tr>\n",
       "  </tbody>\n",
       "</table>\n",
       "</div>"
      ],
      "text/plain": [
       "          height    weight\n",
       "height  1.000000  0.640032\n",
       "weight  0.640032  1.000000"
      ]
     },
     "execution_count": 52,
     "metadata": {},
     "output_type": "execute_result"
    }
   ],
   "source": [
    "#Check if it is correct\n",
    "wVb[['height', 'weight']].corr()"
   ]
  },
  {
   "cell_type": "markdown",
   "id": "a2d923b0",
   "metadata": {},
   "source": [
    "### - Exercici 3\n",
    "\n",
    "Continuant amb les dades de tema esportiu, calcula la correlació de tots els atributs entre sí i representa'ls en una matriu amb diferents colors d'intensitat."
   ]
  },
  {
   "cell_type": "code",
   "execution_count": 53,
   "id": "23c98ae0",
   "metadata": {},
   "outputs": [],
   "source": [
    "def corrHeatMap(corrMat, ax):\n",
    "    \n",
    "    mask = np.triu(corrMat, 1)\n",
    "    sns.heatmap(corrMat, annot = True, linewidths = 1, mask = mask,\n",
    "            annot_kws={\"size\": 10}, cmap = 'Greens', ax = ax)\n",
    "    ax.set_title('Correlation Matrix Delayed Flights')    \n",
    "    ax.set_xticklabels(ax.get_xticklabels(), rotation = 90)"
   ]
  },
  {
   "cell_type": "code",
   "execution_count": 54,
   "id": "7832138c",
   "metadata": {},
   "outputs": [
    {
     "name": "stdout",
     "output_type": "stream",
     "text": [
      "                   height    weight     spike     block  position_number  \\\n",
      "height           1.000000  0.640032  0.483198  0.407895        -0.046269   \n",
      "weight           0.640032  1.000000  0.179498  0.096429        -0.128675   \n",
      "spike            0.483198  0.179498  1.000000  0.926412        -0.098389   \n",
      "block            0.407895  0.096429  0.926412  1.000000        -0.068772   \n",
      "position_number -0.046269 -0.128675 -0.098389 -0.068772         1.000000   \n",
      "country         -0.088319 -0.183433 -0.144460 -0.091026        -0.037706   \n",
      "\n",
      "                  country  \n",
      "height          -0.088319  \n",
      "weight          -0.183433  \n",
      "spike           -0.144460  \n",
      "block           -0.091026  \n",
      "position_number -0.037706  \n",
      "country          1.000000  \n"
     ]
    },
    {
     "data": {
      "image/png": "[encoded data removed]",
      "text/plain": [
       "<Figure size 864x648 with 2 Axes>"
      ]
     },
     "metadata": {
      "needs_background": "light"
     },
     "output_type": "display_data"
    }
   ],
   "source": [
    "corrMat = wVb.corr()\n",
    "fig, ax = plt.subplots(figsize = (12,9))\n",
    "\n",
    "corrHeatMap( corrMat, ax)\n",
    "\n",
    "print(corrMat)"
   ]
  },
  {
   "cell_type": "markdown",
   "id": "e2180a61",
   "metadata": {},
   "source": [
    "### Exercici 4\n",
    "\n",
    "Continuant amb les dades de tema esportiu, selecciona un atribut i calcula la mitjana geomètrica i la mitjana harmònica."
   ]
  },
  {
   "cell_type": "code",
   "execution_count": 95,
   "id": "ab36c3f2",
   "metadata": {},
   "outputs": [],
   "source": [
    "def myGeoMean(df, label):\n",
    "    #A regular cumulative product would cause bit overflow. To avoid it, we divide by 10 and give the result in meters.\n",
    "    #Also, if not already float 64, change the dtype to float64\n",
    "    x = df[label]/10\n",
    "    xF64 = x.astype('float64')\n",
    "    \n",
    "    return np.power(xF64.cumprod().iloc[xF64.size - 1], 1/x.size)\n",
    "\n",
    "def myHarmMean(df, label):\n",
    "    \n",
    "    x = df[label]/10\n",
    "    #first drop any values that are 0, since they would make infinites\n",
    "    condition = x == 0\n",
    "    xx = x[~condition]\n",
    "    invX = 1/xx\n",
    "    \n",
    "    return xx.size/invX.sum()"
   ]
  },
  {
   "cell_type": "code",
   "execution_count": 98,
   "id": "54236cf2",
   "metadata": {},
   "outputs": [
    {
     "name": "stdout",
     "output_type": "stream",
     "text": [
      "Geommetric mean 18.078736089543952\n",
      "Harmonic mean 18.059111297695402\n"
     ]
    }
   ],
   "source": [
    "label = 'height'\n",
    "print('Geommetric mean', myGeoMean(wVb, label))\n",
    "print('Harmonic mean', myHarmMean(wVb, label))"
   ]
  },
  {
   "cell_type": "code",
   "execution_count": 100,
   "id": "f2a865f7",
   "metadata": {},
   "outputs": [
    {
     "name": "stdout",
     "output_type": "stream",
     "text": [
      "Geommetric mean 18.078736089543952\n",
      "Harmonic mean 18.059111297695402\n"
     ]
    }
   ],
   "source": [
    "#Check for errors\n",
    "import scipy as sp\n",
    "\n",
    "print('Geommetric mean', sp.stats.mstats.gmean(wVb[label]/10))\n",
    "print('Harmonic mean', sp.stats.hmean(wVb[label]/10))"
   ]
  },
  {
   "cell_type": "code",
   "execution_count": null,
   "id": "31ad1818",
   "metadata": {},
   "outputs": [],
   "source": []
  }
 ],
 "metadata": {
  "anaconda-cloud": {},
  "kernelspec": {
   "display_name": "Python 3 (ipykernel)",
   "language": "python",
   "name": "python3"
  },
  "language_info": {
   "codemirror_mode": {
    "name": "ipython",
    "version": 3
   },
   "file_extension": ".py",
   "mimetype": "text/x-python",
   "name": "python",
   "nbconvert_exporter": "python",
   "pygments_lexer": "ipython3",
   "version": "3.7.11"
  }
 },
 "nbformat": 4,
 "nbformat_minor": 5
}
